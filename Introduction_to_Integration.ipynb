{
  "nbformat": 4,
  "nbformat_minor": 0,
  "metadata": {
    "colab": {
      "name": "Introduction to Integration.ipynb",
      "provenance": [],
      "authorship_tag": "ABX9TyPGXakk1msQCOp2capqJYHA",
      "include_colab_link": true
    },
    "kernelspec": {
      "name": "python3",
      "display_name": "Python 3"
    }
  },
  "cells": [
    {
      "cell_type": "markdown",
      "metadata": {
        "id": "view-in-github",
        "colab_type": "text"
      },
      "source": [
        "<a href=\"https://colab.research.google.com/github/CREVIOS/Python-machine-learning-math/blob/master/Introduction_to_Integration.ipynb\" target=\"_parent\"><img src=\"https://colab.research.google.com/assets/colab-badge.svg\" alt=\"Open In Colab\"/></a>"
      ]
    },
    {
      "cell_type": "code",
      "metadata": {
        "id": "UBON5gInOuH0",
        "colab_type": "code",
        "colab": {}
      },
      "source": [
        ""
      ],
      "execution_count": 0,
      "outputs": []
    },
    {
      "cell_type": "markdown",
      "metadata": {
        "id": "zJkq2K3hOzCT",
        "colab_type": "text"
      },
      "source": [
        "\n",
        "# Introduction to Integration\n",
        "Integrals are the inverses of derivatives. More importantly, using integration provides a way to compute the area under the curve of most any function. There are many applications for integration. For example, if you need to compute a probability of some occurance between limits (which we'll discuss later in this course), then you will use an integral.\n",
        "\n",
        "Let's start with a simple function:\n",
        "\n",
        "$$f(x)=x$$\n",
        "We can plot this function as a line. Run the code below to plot the function for the range 0 to 10:"
      ]
    },
    {
      "cell_type": "code",
      "metadata": {
        "id": "Ar9s138rO0cY",
        "colab_type": "code",
        "outputId": "0d7cfae4-a7e2-48c7-de77-d81dfee84567",
        "colab": {
          "base_uri": "https://localhost:8080/",
          "height": 279
        }
      },
      "source": [
        "\n",
        "import numpy as np\n",
        "from matplotlib import pyplot as plt\n",
        "%matplotlib inline\n",
        "\n",
        "# Define function f\n",
        "def f(x):\n",
        "    return x\n",
        "\n",
        "# Create an array of x values from 0 to 10\n",
        "x = range(0, 11)\n",
        "\n",
        "# Get the corresponding y values from the function\n",
        "y = [f(a) for a in x]\n",
        "\n",
        "# Set up the plot\n",
        "plt.xlabel('x')\n",
        "plt.ylabel('f(x)')\n",
        "plt.grid()\n",
        "\n",
        "# Plot x against f(x)\n",
        "plt.plot(x,y, color='purple')\n",
        "\n",
        "plt.show()"
      ],
      "execution_count": 0,
      "outputs": [
        {
          "output_type": "display_data",
          "data": {
            "image/png": "[encoded data removed]",
            "text/plain": [
              "<Figure size 432x288 with 1 Axes>"
            ]
          },
          "metadata": {
            "tags": []
          }
        }
      ]
    },
    {
      "cell_type": "code",
      "metadata": {
        "id": "A1ZcMqP5O3z4",
        "colab_type": "code",
        "colab": {}
      },
      "source": [
        ""
      ],
      "execution_count": 0,
      "outputs": []
    },
    {
      "cell_type": "markdown",
      "metadata": {
        "id": "iHJXhzBPO5_g",
        "colab_type": "text"
      },
      "source": [
        "\n",
        "# Performing Integration\n",
        "The integral of a function is the area under it - in this case, the area under the purple diagonal line down to the x-axis.\n",
        "\n",
        "So how do you find the integral of a function? well, for our simple function $f(x) = x$, the formula for an integral is written as follows:\n",
        "\n",
        "$$\\int f(x)\\;dx$$\n",
        "The $\\int$ symbol shows that this formula is an integral. The $dx$ indicates that the integration is with respect to the $x$ variable. Note that since $f(x) = x$, we could also write this integral formula as $\\int x\\;dx$\n",
        "\n",
        "So, what is the integral of $x\\ dx$? To answer this question, we need the antiderivative of f - in other words we need to find a function which has a derivative matching the output of $f$, which is just $x$. Using the power rule in reverse, a function that has the derivative $x$ would be $\\frac{1}{2} x^2$\n",
        "\n",
        "So, the unbound integral formula for $f$ with respect to $x$ can be written as:\n",
        "\n",
        "$$\\int f(x)\\;dx = \\frac{1}{2} x^2$$\n",
        "# Integration between Limits\n",
        "Now that we have the unbound integral formula, we can use it to find the integral between specific start and end points. Let's suppose we want to find the area under the function between the $x$ values 0 and 2. In other words, the integral of $f$ for the range 0 to 2 with respect to $x$.\n",
        "\n",
        "Run the following code to re-plot the function and show the area we're interested in:"
      ]
    },
    {
      "cell_type": "code",
      "metadata": {
        "id": "KTm2slH6O98I",
        "colab_type": "code",
        "outputId": "33573025-4d5b-4e12-9a61-dd3022c1ee2d",
        "colab": {
          "base_uri": "https://localhost:8080/",
          "height": 279
        }
      },
      "source": [
        "\n",
        "# Set up the plot\n",
        "plt.xlabel('x')\n",
        "plt.ylabel('f(x)')\n",
        "plt.grid()\n",
        "\n",
        "# Plot x against f(x)\n",
        "plt.plot(x,y, color='purple')\n",
        "\n",
        "# show area for integral\n",
        "section = np.arange(0, 2, 1/20)\n",
        "plt.fill_between(section,f(section), color='orange')\n",
        "\n",
        "plt.show()"
      ],
      "execution_count": 0,
      "outputs": [
        {
          "output_type": "display_data",
          "data": {
            "image/png": "[encoded data removed]",
            "text/plain": [
              "<Figure size 432x288 with 1 Axes>"
            ]
          },
          "metadata": {
            "tags": []
          }
        }
      ]
    },
    {
      "cell_type": "markdown",
      "metadata": {
        "id": "PnpVgsa-PCRg",
        "colab_type": "text"
      },
      "source": [
        "\n",
        "We call the start and end point the limits of the integral. The lower limit is placed as a subscript of the integral sign. The upper limit is placed as a superscript of the integral sign. Using this notation the integral of $f(x)$ from $0$ to $2$ is written as follows:\n",
        "\n",
        "$$\\int_0^2 f(x)\\;dx$$\n",
        "The integral is evaluated by subtracting the value of the integrand at the lower limit from the integrand at the upper limit; and since we know the formula based on our antiderivative function, the integral can be evaluated in the following manner.\n",
        "\n",
        "$$\\int_0^2 f(x)\\;dx\\\\ = \\frac{1}{2} x^2\\ \\big|_0^2\\\\\n",
        "= \\frac{1}{2} 2^2 - \\frac{1}{2} 0^2\\\\\n",
        "= \\frac{4}{2} - \\frac{0}{2} x^2\\\\ = 2$$\n",
        "Execute the code in the cell below and verify that the result returned by the scipy.integrate.quad function in Python is approximately the same as we computed analytically."
      ]
    },
    {
      "cell_type": "code",
      "metadata": {
        "id": "JWragc0CPD0B",
        "colab_type": "code",
        "outputId": "2670f952-496e-4657-e858-d7ff6c744632",
        "colab": {
          "base_uri": "https://localhost:8080/",
          "height": 34
        }
      },
      "source": [
        "\n",
        "import scipy.integrate as integrate\n",
        "i, e = integrate.quad(lambda x: f(x), 0, 2)\n",
        "print (i)"
      ],
      "execution_count": 3,
      "outputs": [
        {
          "output_type": "stream",
          "text": [
            "4.666666666666666\n"
          ],
          "name": "stdout"
        }
      ]
    },
    {
      "cell_type": "code",
      "metadata": {
        "id": "4334EvbDPIQJ",
        "colab_type": "code",
        "colab": {}
      },
      "source": [
        ""
      ],
      "execution_count": 0,
      "outputs": []
    },
    {
      "cell_type": "code",
      "metadata": {
        "id": "j_5AivsJ4bR7",
        "colab_type": "code",
        "colab": {}
      },
      "source": [
        ""
      ],
      "execution_count": 0,
      "outputs": []
    },
    {
      "cell_type": "markdown",
      "metadata": {
        "id": "2UniJOn0PJrg",
        "colab_type": "text"
      },
      "source": [
        "# Another Integral\n",
        "Here is another example for a slightly more complex function. What is the area under the curve of the function $3x^2 + 2x + 1$ between $0$ and $3$?\n",
        "\n",
        "let's look at that function and the area in question:"
      ]
    },
    {
      "cell_type": "code",
      "metadata": {
        "id": "1ffG9RQ_PMvo",
        "colab_type": "code",
        "colab": {
          "base_uri": "https://localhost:8080/",
          "height": 279
        },
        "outputId": "f9f2592e-b90e-4b2f-848b-dd3161d63209"
      },
      "source": [
        "%matplotlib inline\n",
        "\n",
        "# Here's the function\n",
        "def f(x):\n",
        "    return x**2 + x\n",
        "\n",
        "from matplotlib import pyplot as plt\n",
        "\n",
        "# Create an array of x values from 0 to 10 to plot\n",
        "x = list(range(0, 11))\n",
        "\n",
        "# Use the function to get the y values\n",
        "y = [f(i) for i in x]\n",
        "\n",
        "# Set up the graph\n",
        "plt.xlabel('x')\n",
        "plt.ylabel('f(x)')\n",
        "plt.grid()\n",
        "\n",
        "# Plot the function\n",
        "plt.plot(x,y, color='green')\n",
        "\n",
        "plt.show()"
      ],
      "execution_count": 1,
      "outputs": [
        {
          "output_type": "display_data",
          "data": {
            "image/png": "[encoded data removed]",
            "text/plain": [
              "<Figure size 432x288 with 1 Axes>"
            ]
          },
          "metadata": {
            "tags": []
          }
        }
      ]
    },
    {
      "cell_type": "markdown",
      "metadata": {
        "id": "vN5XOEj26kxi",
        "colab_type": "text"
      },
      "source": [
        "\n",
        "We can evaluate this integral just as before, this time using function:\n",
        "\n",
        "$$\\int_0^3 3x^2 + 2x + 1\\;dx$$\n",
        "We can calculate the antiderivative of $3x^2 + 2x + 1\\;dx$ as $\\frac{3}{3} x^3 + \\frac{2}{2} x^2 + x$, so:\n",
        "\n",
        "$$\\int_0^3= \\frac{3}{3} x^3 + \\frac{2}{2} x^2 + x\\ \\big|_0^3\\\\\n",
        "= \\frac{3}{3} 3^3 + \\frac{2}{2} 3^2 + 3 - \\frac{3}{3} 0^3 - \\frac{2}{2} 0^2 + 0\\\\\n",
        "= 27 + 9 + 3 + 0 + 0 + 0\\\\\n",
        "= 39$$\n",
        "Now, execute the code in the cell below to verify the result"
      ]
    },
    {
      "cell_type": "code",
      "metadata": {
        "id": "7LPZuuI87DPr",
        "colab_type": "code",
        "colab": {
          "base_uri": "https://localhost:8080/",
          "height": 34
        },
        "outputId": "b9efba39-dc89-41f6-e9d4-328f2982d3e9"
      },
      "source": [
        "i, e = integrate.quad(lambda x: 3 * x**2 + 2 * x + 1, 0, 3)\n",
        "print(i)"
      ],
      "execution_count": 4,
      "outputs": [
        {
          "output_type": "stream",
          "text": [
            "38.99999999999999\n"
          ],
          "name": "stdout"
        }
      ]
    },
    {
      "cell_type": "code",
      "metadata": {
        "id": "t74z1OMz7b4j",
        "colab_type": "code",
        "colab": {
          "base_uri": "https://localhost:8080/",
          "height": 34
        },
        "outputId": "1b271de8-8a48-4f70-de68-52974ba10a10"
      },
      "source": [
        "print(e)"
      ],
      "execution_count": 5,
      "outputs": [
        {
          "output_type": "stream",
          "text": [
            "4.3298697960381095e-13\n"
          ],
          "name": "stdout"
        }
      ]
    },
    {
      "cell_type": "markdown",
      "metadata": {
        "id": "Wd2-groD784o",
        "colab_type": "text"
      },
      "source": [
        "Infinite limits\n",
        "In many cases the limits of an integral can be $+/- \\infty$. Perhaps suprisingly, this situation is not really a problem if the function being integrated converges to $0$ at the infinite limit.\n",
        "\n",
        "Here is an example. The function $e^{-5x} \\rightarrow 0$ as $x \\rightarrow \\infty$. Therefore, the integral of this function from some limit to $\\infty$. This integral can be written as follows:\n",
        "\n",
        "$$\\int^{\\infty}_0 e^{-5x} dx$$\n",
        "The code in the cell below computes this integral numerically."
      ]
    },
    {
      "cell_type": "code",
      "metadata": {
        "id": "tXE3zCNK77SZ",
        "colab_type": "code",
        "colab": {
          "base_uri": "https://localhost:8080/",
          "height": 51
        },
        "outputId": "b794eeba-72b8-42d3-8d90-53ac46927f62"
      },
      "source": [
        "import numpy as np\n",
        "i, e = integrate.quad(lambda x: np.exp(-x*5), 0, np.inf)\n",
        "\n",
        "print('Integral: ' + str(i))\n",
        "print('Absolute Error: ' + str(e))"
      ],
      "execution_count": 6,
      "outputs": [
        {
          "output_type": "stream",
          "text": [
            "Integral: 0.20000000000000004\n",
            "Absolute Error: 1.5606666951908062e-11\n"
          ],
          "name": "stdout"
        }
      ]
    },
    {
      "cell_type": "markdown",
      "metadata": {
        "id": "QJbyxAWc801m",
        "colab_type": "text"
      },
      "source": [
        "This integral converges to a small number with a much smaller error estimate.\n",
        "\n",
        "Here is another example that illustrates why having infinite integration limits is so useful. When computing probabilities it is often necessary to have infinite limits. Don't worry too much about the details of probability theory. This is covered in a later lesson.\n",
        "\n",
        "A Normal distribution with zero mean and a standard deviation of $1$ has the following density function:\n",
        "\n",
        "$$\\frac{1}{2 \\pi} e^{\\frac{-x^2}{\\sqrt(2 \\pi)}}$$\n",
        "It makes sense that the integral of this probability density function from $-\\infty$ to $\\infty$ must be $1.0$. In other words the probability of a Normally distributed event ocurring at all possible values must be $1.0$.\n",
        "\n",
        "The code in the cell below computes the following integral:\n",
        "\n",
        "$$\\int_{-\\infty}^{\\infty} \\frac{1}{2 \\pi} e^{\\frac{-x^2}{\\sqrt(2 \\pi)}} dx$$\n",
        "Execute this code and verify that the result is approximately $1.0$."
      ]
    },
    {
      "cell_type": "code",
      "metadata": {
        "id": "0Q0et7Ip8881",
        "colab_type": "code",
        "colab": {
          "base_uri": "https://localhost:8080/",
          "height": 51
        },
        "outputId": "025fb40a-d777-4101-98b1-5cf300c50804"
      },
      "source": [
        "import numpy as np\n",
        "norms = lambda x: np.exp(-x**2/2.0)/np.sqrt(2.0 * 3.14159)\n",
        "i, e = integrate.quad(norms, -np.inf, np.inf)\n",
        "\n",
        "print('Integral: ' + str(i))\n",
        "print('Absolute Error: ' + str(e))"
      ],
      "execution_count": 7,
      "outputs": [
        {
          "output_type": "stream",
          "text": [
            "Integral: 1.0000004223321999\n",
            "Absolute Error: 1.017819568483304e-08\n"
          ],
          "name": "stdout"
        }
      ]
    }
  ]
}