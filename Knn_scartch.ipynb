{
  "nbformat": 4,
  "nbformat_minor": 0,
  "metadata": {
    "colab": {
      "name": "Knn scartch.ipynb",
      "provenance": [],
      "authorship_tag": "ABX9TyOYLoWgcQCQQ4aqAkU93DQi",
      "include_colab_link": true
    },
    "kernelspec": {
      "name": "python3",
      "display_name": "Python 3"
    }
  },
  "cells": [
    {
      "cell_type": "markdown",
      "metadata": {
        "id": "view-in-github",
        "colab_type": "text"
      },
      "source": [
        "<a href=\"https://colab.research.google.com/github/CREVIOS/Python-machine-learning-math/blob/master/Knn_scartch.ipynb\" target=\"_parent\"><img src=\"https://colab.research.google.com/assets/colab-badge.svg\" alt=\"Open In Colab\"/></a>"
      ]
    },
    {
      "cell_type": "code",
      "metadata": {
        "id": "SXWQpbIZGd_R",
        "colab_type": "code",
        "colab": {
          "base_uri": "https://localhost:8080/",
          "height": 71
        },
        "outputId": "6f406302-90ee-4851-fd46-fbffb4c363b3"
      },
      "source": [
        "from sklearn.datasets.samples_generator import make_blobs\n",
        "import numpy as np\n",
        "import matplotlib.pyplot as plt\n",
        "np.random.seed(6)\n",
        "import math\n",
        "from collections import Counter"
      ],
      "execution_count": 1,
      "outputs": [
        {
          "output_type": "stream",
          "text": [
            "/usr/local/lib/python3.6/dist-packages/sklearn/utils/deprecation.py:144: FutureWarning: The sklearn.datasets.samples_generator module is  deprecated in version 0.22 and will be removed in version 0.24. The corresponding classes / functions should instead be imported from sklearn.datasets. Anything that cannot be imported from sklearn.datasets is now part of the private API.\n",
            "  warnings.warn(message, FutureWarning)\n"
          ],
          "name": "stderr"
        }
      ]
    },
    {
      "cell_type": "code",
      "metadata": {
        "id": "Grfjvze6Gg33",
        "colab_type": "code",
        "colab": {
          "base_uri": "https://localhost:8080/",
          "height": 265
        },
        "outputId": "0019fdeb-b2a3-443a-bd6f-cacf8a77ac27"
      },
      "source": [
        "(X,y) =  make_blobs(n_samples=50,n_features=2,centers=2,cluster_std=1.95,random_state=50)\n",
        "\n",
        "plt.scatter(X[:,0],X[:,1],marker='o',c=y)\n",
        "plt.show()"
      ],
      "execution_count": 2,
      "outputs": [
        {
          "output_type": "display_data",
          "data": {
            "image/png": "[encoded data removed]",
            "text/plain": [
              "<Figure size 432x288 with 1 Axes>"
            ]
          },
          "metadata": {
            "tags": []
          }
        }
      ]
    },
    {
      "cell_type": "code",
      "metadata": {
        "id": "vmFcxE9MGmWt",
        "colab_type": "code",
        "colab": {
          "base_uri": "https://localhost:8080/",
          "height": 265
        },
        "outputId": "dcc11186-f40e-4e2a-e4f2-37b40129c78d"
      },
      "source": [
        "prediction_points=[[-2,-4],[-3,-6],[1,0],[6,4],[-6,4]]\n",
        "prediction_points=np.array(prediction_points)\n",
        "\n",
        "plt.scatter(X[:,0],X[:,1],marker='o',c=y)\n",
        "plt.scatter(prediction_points[:,0],prediction_points[:,1],marker='o')\n",
        "plt.show()"
      ],
      "execution_count": 3,
      "outputs": [
        {
          "output_type": "display_data",
          "data": {
            "image/png": "[encoded data removed]",
            "text/plain": [
              "<Figure size 432x288 with 1 Axes>"
            ]
          },
          "metadata": {
            "tags": []
          }
        }
      ]
    },
    {
      "cell_type": "code",
      "metadata": {
        "id": "vOHu9eVaGnTU",
        "colab_type": "code",
        "colab": {
          "base_uri": "https://localhost:8080/",
          "height": 272
        },
        "outputId": "099f09a2-1b2d-4b75-929d-0a7f5f402c32"
      },
      "source": [
        "def get_eculidean_distance(point,k):\n",
        "    euc_distance = np.sqrt(np.sum((X - point)**2 , axis=1))\n",
        "    return np.argsort(euc_distance)[0:k]\n",
        "\n",
        "def predict(prediction_points,k):\n",
        "    points_labels=[]\n",
        "    \n",
        "    for point in prediction_points:\n",
        "        distances=get_eculidean_distance(point,k)\n",
        "        \n",
        "        results=[]\n",
        "        for index in distances:\n",
        "            results.append(y[index])\n",
        "        \n",
        "        label=Counter(results).most_common(1)\n",
        "        points_labels.append([point,label[0][0]])\n",
        "        \n",
        "    return points_labels\n",
        "\n",
        "results=predict(prediction_points,10)\n",
        "for result in results:\n",
        "    print(\"Point = \",result[0])\n",
        "    print(\"Class = \",result[1])\n",
        "    print()"
      ],
      "execution_count": 4,
      "outputs": [
        {
          "output_type": "stream",
          "text": [
            "Point =  [-2 -4]\n",
            "Class =  0\n",
            "\n",
            "Point =  [-3 -6]\n",
            "Class =  0\n",
            "\n",
            "Point =  [1 0]\n",
            "Class =  0\n",
            "\n",
            "Point =  [6 4]\n",
            "Class =  0\n",
            "\n",
            "Point =  [-6  4]\n",
            "Class =  1\n",
            "\n"
          ],
          "name": "stdout"
        }
      ]
    },
    {
      "cell_type": "code",
      "metadata": {
        "id": "L6F852luGqos",
        "colab_type": "code",
        "colab": {
          "base_uri": "https://localhost:8080/",
          "height": 34
        },
        "outputId": "960313a8-c791-498d-f4ad-ce0a2fa56877"
      },
      "source": [
        "#testing using the same data\n",
        "\n",
        "results=predict(X,1)\n",
        "predictions=[]\n",
        "for result in results:\n",
        "    predictions.append(result[1])\n",
        "print(predictions)"
      ],
      "execution_count": 5,
      "outputs": [
        {
          "output_type": "stream",
          "text": [
            "[0, 1, 0, 0, 0, 1, 1, 0, 1, 1, 0, 0, 1, 0, 1, 1, 0, 0, 0, 1, 0, 0, 1, 0, 1, 1, 1, 1, 1, 1, 0, 1, 0, 1, 0, 1, 0, 1, 1, 0, 1, 0, 0, 0, 1, 0, 0, 1, 0, 1]\n"
          ],
          "name": "stdout"
        }
      ]
    },
    {
      "cell_type": "code",
      "metadata": {
        "id": "evzysx0oGtxk",
        "colab_type": "code",
        "colab": {
          "base_uri": "https://localhost:8080/",
          "height": 68
        },
        "outputId": "f24cc9d0-fe91-4144-f32a-ed75c96ee488"
      },
      "source": [
        "y"
      ],
      "execution_count": 6,
      "outputs": [
        {
          "output_type": "execute_result",
          "data": {
            "text/plain": [
              "array([0, 1, 0, 0, 0, 1, 1, 0, 1, 1, 0, 0, 1, 0, 1, 1, 0, 0, 0, 1, 0, 0,\n",
              "       1, 0, 1, 1, 1, 1, 1, 1, 0, 1, 0, 1, 0, 1, 0, 1, 1, 0, 1, 0, 0, 0,\n",
              "       1, 0, 0, 1, 0, 1])"
            ]
          },
          "metadata": {
            "tags": []
          },
          "execution_count": 6
        }
      ]
    },
    {
      "cell_type": "code",
      "metadata": {
        "id": "DZFbxmXrGwr0",
        "colab_type": "code",
        "colab": {
          "base_uri": "https://localhost:8080/",
          "height": 279
        },
        "outputId": "26d7bfe8-d04f-4670-d51a-9039de76062e"
      },
      "source": [
        "#Calculating the accuracy\n",
        "def get_accuracy(predictions):\n",
        "    error=np.sum((predictions-y)**2)\n",
        "    accuracy=100-(error/len(y))*100\n",
        "    return accuracy\n",
        "\n",
        "#for different K values \n",
        "acc=[]\n",
        "for k in range(1,10):\n",
        "    results=predict(X,k)\n",
        "    predictions=[]\n",
        "    for result in results:\n",
        "        predictions.append(result[1])\n",
        "    acc.append([get_accuracy(predictions),k])\n",
        "\n",
        "plotx=[]\n",
        "ploty=[]\n",
        "for a in acc:\n",
        "    plotx.append(a[1])\n",
        "    ploty.append(a[0])\n",
        "    \n",
        "plt.plot(plotx,ploty)\n",
        "plt.xlabel(\"k values\")\n",
        "plt.ylabel(\"accuracy\")\n",
        "plt.show()"
      ],
      "execution_count": 7,
      "outputs": [
        {
          "output_type": "display_data",
          "data": {
            "image/png": "[encoded data removed]",
            "text/plain": [
              "<Figure size 432x288 with 1 Axes>"
            ]
          },
          "metadata": {
            "tags": []
          }
        }
      ]
    },
    {
      "cell_type": "markdown",
      "metadata": {
        "id": "mShDqR9aG47E",
        "colab_type": "text"
      },
      "source": [
        "# Finally Best K value is either 1 or 2"
      ]
    }
  ]
}