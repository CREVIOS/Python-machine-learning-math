{
  "nbformat": 4,
  "nbformat_minor": 0,
  "metadata": {
    "colab": {
      "name": "Untitled16.ipynb",
      "provenance": [],
      "authorship_tag": "ABX9TyPrFHOqiQVAi8bSgNQl1Dsm",
      "include_colab_link": true
    },
    "kernelspec": {
      "name": "python3",
      "display_name": "Python 3"
    }
  },
  "cells": [
    {
      "cell_type": "markdown",
      "metadata": {
        "id": "view-in-github",
        "colab_type": "text"
      },
      "source": [
        "<a href=\"https://colab.research.google.com/github/CREVIOS/Python-math/blob/master/Factorial.ipynb\" target=\"_parent\"><img src=\"https://colab.research.google.com/assets/colab-badge.svg\" alt=\"Open In Colab\"/></a>"
      ]
    },
    {
      "cell_type": "code",
      "metadata": {
        "id": "yZQxxqFDTScB",
        "colab_type": "code",
        "colab": {
          "base_uri": "https://localhost:8080/",
          "height": 51
        },
        "outputId": "d76497d8-3f88-4de2-dfba-775ddce3e6e9"
      },
      "source": [
        "import math \n",
        "import time  \n",
        "# gamma_var= x then it will show (x-1)!\n",
        "gamma_var = 5   # result of 4!\n",
        "start_gamma = time.time() \n",
        "res_gamma = math.gamma(gamma_var) \n",
        "print (\"The gamma value using gamma() is : \"\n",
        "                           + str(res_gamma)) \n",
        "print (\"The time taken to compute is : \" \n",
        "       + str(time.time() - start_gamma)) "
      ],
      "execution_count": 21,
      "outputs": [
        {
          "output_type": "stream",
          "text": [
            "The gamma value using gamma() is : 24.0\n",
            "The time taken to compute is : 0.0013000965118408203\n"
          ],
          "name": "stdout"
        }
      ]
    },
    {
      "cell_type": "code",
      "metadata": {
        "id": "GYDgT0UqV8Nx",
        "colab_type": "code",
        "colab": {
          "base_uri": "https://localhost:8080/",
          "height": 51
        },
        "outputId": "683287bf-54e1-4c90-9533-097b0c63bb33"
      },
      "source": [
        "gamma_var = 3/2  #result of (1/2)#\n",
        "start_gamma = time.time() \n",
        "res_gamma = math.gamma(gamma_var) \n",
        "print (\"The gamma value using gamma() is : \"\n",
        "                           + str(res_gamma)) \n",
        "print (\"The time taken to compute is : \" \n",
        "       + str(time.time() - start_gamma)) "
      ],
      "execution_count": 22,
      "outputs": [
        {
          "output_type": "stream",
          "text": [
            "The gamma value using gamma() is : 0.886226925452758\n",
            "The time taken to compute is : 0.0014312267303466797\n"
          ],
          "name": "stdout"
        }
      ]
    },
    {
      "cell_type": "code",
      "metadata": {
        "id": "ECRZGOxmWHcW",
        "colab_type": "code",
        "colab": {
          "base_uri": "https://localhost:8080/",
          "height": 51
        },
        "outputId": "640551ac-3b12-4494-b0f0-2f957a738709"
      },
      "source": [
        "gamma_var = 1/2  # (-.5)!\n",
        "start_gamma = time.time() \n",
        "res_gamma = math.gamma(gamma_var) \n",
        "print (\"The gamma value using gamma() is : \"\n",
        "                           + str(res_gamma)) \n",
        "print (\"The time taken to compute is : \" \n",
        "       + str(time.time() - start_gamma)) "
      ],
      "execution_count": 25,
      "outputs": [
        {
          "output_type": "stream",
          "text": [
            "The gamma value using gamma() is : 1.7724538509055159\n",
            "The time taken to compute is : 0.0015914440155029297\n"
          ],
          "name": "stdout"
        }
      ]
    }
  ]
}